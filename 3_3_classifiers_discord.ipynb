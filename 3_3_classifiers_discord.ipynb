{
  "cells": [
    {
      "cell_type": "code",
      "execution_count": 16,
      "metadata": {
        "colab": {
          "base_uri": "https://localhost:8080/"
        },
        "id": "LFqD-CcN5OxX",
        "outputId": "92c6809e-cef7-438f-928d-0e7223707e87"
      },
      "outputs": [],
      "source": [
        "# !pip install datasets\n",
        "# !pip install catboost\n",
        "import pandas as pd\n",
        "from sklearn.model_selection import train_test_split\n",
        "import re\n",
        "from sklearn.linear_model import LinearRegression\n",
        "from sklearn.metrics import mean_squared_error, r2_score\n",
        "from sklearn.preprocessing import StandardScaler\n",
        "import pandas as pd\n",
        "# import nltk\n",
        "# from nltk.util import ngrams\n",
        "from sklearn.feature_extraction.text import TfidfVectorizer\n",
        "import gc\n",
        "from sklearn.linear_model import LogisticRegression\n",
        "from sklearn.linear_model import SGDClassifier\n",
        "from sklearn.naive_bayes import MultinomialNB\n",
        "from catboost import CatBoostClassifier\n",
        "from sklearn.ensemble import VotingClassifier\n",
        "# from datasets import Dataset\n",
        "# from transformers import PreTrainedTokenizerFast\n",
        "from tqdm import tqdm\n",
        "import torch\n",
        "# from tokenizers import (\n",
        "#     decoders,\n",
        "#     models,\n",
        "#     normalizers,\n",
        "#     pre_tokenizers,\n",
        "#     processors,\n",
        "#     trainers,\n",
        "#     Tokenizer,\n",
        "# )\n",
        "import numpy as np\n",
        "from scipy.sparse import save_npz, load_npz"
      ]
    },
    {
      "cell_type": "code",
      "execution_count": 2,
      "metadata": {
        "id": "q9whChYsXi0g"
      },
      "outputs": [],
      "source": [
        "LOWERCASE = True\n",
        "VOCAB_SIZE = 32000"
      ]
    },
    {
      "cell_type": "code",
      "execution_count": 3,
      "metadata": {
        "id": "sXNcYkhX7q0a"
      },
      "outputs": [],
      "source": [
        "train = pd.read_csv(\"data/train_preprocessed_fill_missing.csv\")\n",
        "test = pd.read_csv(\"data/test_preprocessed_fill_missing.csv\")\n"
      ]
    },
    {
      "cell_type": "code",
      "execution_count": 4,
      "metadata": {
        "id": "2nDrYNx97xb5"
      },
      "outputs": [],
      "source": [
        "# train['text'] = train['title'].astype(str) + \" \" + train['content'].astype(str)\n",
        "# test['text'] = test['title'].astype(str) + \" \" + test['content'].astype(str)"
      ]
    },
    {
      "cell_type": "code",
      "execution_count": 5,
      "metadata": {
        "id": "EpGbTJklIXe8"
      },
      "outputs": [],
      "source": [
        "# df = pd.concat([train['text'], test['text']], axis=0)"
      ]
    },
    {
      "cell_type": "code",
      "execution_count": 6,
      "metadata": {
        "colab": {
          "base_uri": "https://localhost:8080/"
        },
        "id": "2RGVy9K3Vp8C",
        "outputId": "00723b2a-63e5-499b-b359-069bce44557f"
      },
      "outputs": [],
      "source": [
        "# raw_tokenizer = Tokenizer(models.BPE(unk_token=\"[UNK]\"))\n",
        "# raw_tokenizer.normalizer = normalizers.Sequence([normalizers.NFKD()] + [normalizers.Lowercase()] if LOWERCASE else [])\n",
        "# raw_tokenizer.pre_tokenizer = pre_tokenizers.Whitespace()\n",
        "\n",
        "# special_tokens = [\"[UNK]\", \"[PAD]\", \"[CLS]\", \"[SEP]\", \"[MASK]\", \"[BOS]\"]\n",
        "# trainer = trainers.BpeTrainer(vocab_size=VOCAB_SIZE, special_tokens=special_tokens)\n",
        "\n",
        "# dataset = Dataset.from_pandas(test[['text']])\n",
        "\n",
        "# def train_corp_iter():\n",
        "#     for i in range(0, len(dataset), 1000):\n",
        "#         yield dataset[i: i + 1000][\"text\"]\n",
        "\n",
        "# raw_tokenizer.train_from_iterator(train_corp_iter(), trainer=trainer)\n",
        "\n",
        "# tokenizer = PreTrainedTokenizerFast(\n",
        "#     tokenizer_object=raw_tokenizer,\n",
        "#     unk_token=\"[UNK]\",\n",
        "#     pad_token=\"[PAD]\",\n",
        "#     cls_token=\"[CLS]\",\n",
        "#     sep_token=\"[SEP]\",\n",
        "#     mask_token=\"[MASK]\",\n",
        "#     bos_token=\"[BOS]\"\n",
        "# )\n",
        "\n",
        "# tokenized_texts_test = [tokenizer.tokenize(text) for text in tqdm(test['text'].tolist())]\n",
        "# tokenized_texts_train = [tokenizer.tokenize(text) for text in tqdm(train['text'].tolist())]"
      ]
    },
    {
      "cell_type": "code",
      "execution_count": 17,
      "metadata": {
        "id": "1OUrvX4UJBiD"
      },
      "outputs": [],
      "source": [
        "# vectorizer = TfidfVectorizer(ngram_range=(3, 5),tokenizer=lambda x: re.findall(r'[^\\W]+', x),token_pattern=None,strip_accents='unicode',)\n",
        "# vectorizer = vectorizer.fit([\" \".join(text) for text in tokenized_texts_train])\n",
        "X = load_npz('data/train_tfidf_embeddings.npz')"
      ]
    },
    {
      "cell_type": "code",
      "execution_count": 18,
      "metadata": {
        "id": "FS2sQxDISgIm"
      },
      "outputs": [],
      "source": [
        "X_train, X_test, y_train, y_test = train_test_split(X[:train.shape[0]], train.target, test_size=0.2, random_state=42)"
      ]
    },
    {
      "cell_type": "code",
      "execution_count": 21,
      "metadata": {
        "id": "A0-xSV6ONbH5"
      },
      "outputs": [],
      "source": [
        "lr = LogisticRegression(multi_class=\"multinomial\", solver=\"lbfgs\", random_state=42)\n",
        "\n",
        "sgd_model = SGDClassifier(max_iter=4096, tol=1e-3, loss=\"modified_huber\", random_state=42)\n",
        "sgd_model2 = SGDClassifier(max_iter=4096, tol=1e-4, loss=\"modified_huber\", class_weight=\"balanced\", random_state=42)\n",
        "sgd_model3 = SGDClassifier(max_iter=4096, tol=5e-4, loss=\"modified_huber\", early_stopping=True, random_state=42)\n",
        "\n",
        "mnb_model = MultinomialNB(alpha=0.02)\n",
        "mnb_model2 = MultinomialNB(alpha=0.1)\n",
        "mnb_model3 = MultinomialNB(alpha=0.2)\n",
        "\n",
        "catboost_model = CatBoostClassifier(\n",
        "    iterations=512, learning_rate=0.1, depth=3,\n",
        "    loss_function='MultiClass', eval_metric='MultiClass', random_state=42\n",
        ")"
      ]
    },
    {
      "cell_type": "code",
      "execution_count": null,
      "metadata": {
        "id": "sOe1VatxOKrG"
      },
      "outputs": [
        {
          "name": "stderr",
          "output_type": "stream",
          "text": [
            "d:\\cs\\envs\\dpl\\lib\\site-packages\\sklearn\\linear_model\\_logistic.py:458: ConvergenceWarning: lbfgs failed to converge (status=1):\n",
            "STOP: TOTAL NO. of ITERATIONS REACHED LIMIT.\n",
            "\n",
            "Increase the number of iterations (max_iter) or scale the data as shown in:\n",
            "    https://scikit-learn.org/stable/modules/preprocessing.html\n",
            "Please also refer to the documentation for alternative solver options:\n",
            "    https://scikit-learn.org/stable/modules/linear_model.html#logistic-regression\n",
            "  n_iter_i = _check_optimize_result(\n"
          ]
        }
      ],
      "source": [
        "ensemble = VotingClassifier(estimators=[\n",
        "        ('lr', lr),\n",
        "        ('sgd', sgd_model),\n",
        "        ('sgd2', sgd_model2),\n",
        "        ('sgd3', sgd_model3),\n",
        "        ('cat', catboost_model),\n",
        "        ('mnb', mnb_model),\n",
        "        ('mnb2', mnb_model2),\n",
        "        ('mnb3', mnb_model3),\n",
        "    ],voting='soft')\n",
        "ensemble.fit(X_train, y_train)"
      ]
    },
    {
      "cell_type": "code",
      "execution_count": 11,
      "metadata": {
        "id": "Ium3yr5bS_PZ"
      },
      "outputs": [
        {
          "name": "stdout",
          "output_type": "stream",
          "text": [
            "Accuracy on the test set: 0.6989\n"
          ]
        }
      ],
      "source": [
        "from sklearn.metrics import accuracy_score\n",
        "preds_test_classes = ensemble.predict(X_test)\n",
        "\n",
        "accuracy = accuracy_score(y_test, preds_test_classes)\n",
        "\n",
        "print(f'Accuracy on the test set: {accuracy:.4f}')\n"
      ]
    },
    {
      "cell_type": "code",
      "execution_count": null,
      "metadata": {},
      "outputs": [],
      "source": [
        "test_X = load_npz('data/test_tfidf_embeddings.npz')"
      ]
    },
    {
      "cell_type": "code",
      "execution_count": 13,
      "metadata": {
        "id": "RG3QyAxaOe2d"
      },
      "outputs": [],
      "source": [
        "preds_test = ensemble.predict(test_X)"
      ]
    },
    {
      "cell_type": "code",
      "execution_count": 14,
      "metadata": {
        "id": "Ak2q8GRYQQv3"
      },
      "outputs": [
        {
          "data": {
            "text/plain": [
              "array(['depression', 'depression', 'depression', ...,\n",
              "       'relationship-and-family-issues', 'relationship-and-family-issues',\n",
              "       'anxiety'], dtype=object)"
            ]
          },
          "execution_count": 14,
          "metadata": {},
          "output_type": "execute_result"
        }
      ],
      "source": [
        "preds_test"
      ]
    },
    {
      "cell_type": "code",
      "execution_count": 15,
      "metadata": {
        "id": "_wzSGV_ZQUBW"
      },
      "outputs": [],
      "source": [
        "pd.DataFrame({'id':test[\"id\"],'target':preds_test}).sort_values(by=\"id\").to_csv('submission_ensemble_bert.csv', index=False)"
      ]
    },
    {
      "cell_type": "code",
      "execution_count": null,
      "metadata": {
        "id": "xgYdmJYcQqT4"
      },
      "outputs": [],
      "source": []
    }
  ],
  "metadata": {
    "accelerator": "GPU",
    "colab": {
      "gpuType": "T4",
      "provenance": []
    },
    "kernelspec": {
      "display_name": "dpl",
      "language": "python",
      "name": "python3"
    },
    "language_info": {
      "codemirror_mode": {
        "name": "ipython",
        "version": 3
      },
      "file_extension": ".py",
      "mimetype": "text/x-python",
      "name": "python",
      "nbconvert_exporter": "python",
      "pygments_lexer": "ipython3",
      "version": "3.9.16"
    }
  },
  "nbformat": 4,
  "nbformat_minor": 0
}
