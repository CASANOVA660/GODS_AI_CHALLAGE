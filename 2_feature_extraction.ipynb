{
 "cells": [
  {
   "cell_type": "code",
   "execution_count": 2,
   "metadata": {},
   "outputs": [],
   "source": [
    "import pandas as pd\n",
    "import re\n",
    "import contractions\n",
    "import nltk\n",
    "import spacy\n",
    "from nltk.corpus import stopwords\n",
    "from nltk.tokenize import word_tokenize\n"
   ]
  },
  {
   "cell_type": "code",
   "execution_count": 3,
   "metadata": {},
   "outputs": [],
   "source": [
    "train = pd.read_csv('data/train.csv')"
   ]
  },
  {
   "cell_type": "code",
   "execution_count": 4,
   "metadata": {},
   "outputs": [
    {
     "data": {
      "text/plain": [
       "target\n",
       "relationship-and-family-issues     6688\n",
       "anxiety                            6652\n",
       "depression                         5836\n",
       "ptsd-and-trauma                    1819\n",
       "suicidal-thoughts-and-self-harm    1156\n",
       "Name: count, dtype: int64"
      ]
     },
     "execution_count": 4,
     "metadata": {},
     "output_type": "execute_result"
    }
   ],
   "source": [
    "train['target'].value_counts()"
   ]
  },
  {
   "cell_type": "code",
   "execution_count": 5,
   "metadata": {},
   "outputs": [
    {
     "name": "stdout",
     "output_type": "stream",
     "text": [
      "[Post removed at request of member]\n",
      "Hi, welcome\n",
      " \n",
      "Immediately after my 1st marriage split, living in a caravan park, lonely and lost, I learned a valuable lesson, that without a direction one can end up in a situation that mirrors what you have written Rano.\n",
      " \n",
      "Then I spotted a block of land and, got it at auction and spent every spare moment on it, clearing it ready for a kit home which I built myself.\n",
      " \n",
      "I dont expect you to have those abilities, but you would have some abilities and recalling your childhood, where your natural abilities came about could be a start to a new direction. Some thing to think about.\n",
      " \n",
      "In terms of your addiction I'm limited as we arent professional medical staff here, but start with your GP. Time to be fully honest and beat this need out of your life. I bid you good luck and I think that will create a different life altogether. \n",
      " \n",
      "Finally, hobbies, sports even barracking for a team can help. \n",
      " \n",
      "please read this-\n",
      " \n",
      " \n",
      "TonyWK\n"
     ]
    }
   ],
   "source": [
    "print(train['content'][0])"
   ]
  },
  {
   "cell_type": "code",
   "execution_count": null,
   "metadata": {},
   "outputs": [],
   "source": []
  },
  {
   "cell_type": "code",
   "execution_count": null,
   "metadata": {},
   "outputs": [],
   "source": []
  },
  {
   "cell_type": "code",
   "execution_count": null,
   "metadata": {},
   "outputs": [],
   "source": []
  }
 ],
 "metadata": {
  "kernelspec": {
   "display_name": "ai",
   "language": "python",
   "name": "python3"
  },
  "language_info": {
   "codemirror_mode": {
    "name": "ipython",
    "version": 3
   },
   "file_extension": ".py",
   "mimetype": "text/x-python",
   "name": "python",
   "nbconvert_exporter": "python",
   "pygments_lexer": "ipython3",
   "version": "3.9.18"
  }
 },
 "nbformat": 4,
 "nbformat_minor": 2
}
